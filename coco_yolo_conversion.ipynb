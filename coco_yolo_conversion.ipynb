{
 "cells": [
  {
   "cell_type": "code",
   "execution_count": 1,
   "metadata": {},
   "outputs": [],
   "source": [
    "import json\n",
    "import cv2\n",
    "import os\n",
    "import matplotlib.pyplot as plt\n",
    "import shutil"
   ]
  },
  {
   "cell_type": "code",
   "execution_count": 2,
   "metadata": {},
   "outputs": [],
   "source": [
    "input_path = \"data_fashion/instances/\"\n",
    "output_path = \"data_fashion/instances/\""
   ]
  },
  {
   "cell_type": "code",
   "execution_count": 3,
   "metadata": {},
   "outputs": [],
   "source": [
    "f = open(input_path + 'instances_train.json')\n",
    "data = json.load(f)\n",
    "f.close()"
   ]
  },
  {
   "cell_type": "code",
   "execution_count": 4,
   "metadata": {},
   "outputs": [
    {
     "data": {
      "text/plain": [
       "dict_keys(['annotations', 'images', 'info', 'licenses', 'categories', 'attributes'])"
      ]
     },
     "execution_count": 4,
     "metadata": {},
     "output_type": "execute_result"
    }
   ],
   "source": [
    "data.keys()"
   ]
  },
  {
   "cell_type": "code",
   "execution_count": 5,
   "metadata": {},
   "outputs": [],
   "source": [
    "def get_img_ann(image_id):\n",
    "    img_ann = []\n",
    "    isFound = False\n",
    "    for ann in data['annotations']:\n",
    "        if ann['image_id'] == image_id:\n",
    "            img_ann.append(ann)\n",
    "            isFound = True\n",
    "    if isFound:\n",
    "        return img_ann\n",
    "    else:\n",
    "        return None"
   ]
  },
  {
   "cell_type": "code",
   "execution_count": 6,
   "metadata": {},
   "outputs": [],
   "source": [
    "file_names = []\n",
    "for img in data['images']:\n",
    "    file_names.append(str(img['id'])+\".jpg\")"
   ]
  },
  {
   "cell_type": "code",
   "execution_count": 7,
   "metadata": {},
   "outputs": [],
   "source": [
    "file_info = {}\n",
    "for filename in file_names:\n",
    "    img_id = int(filename[:-4])\n",
    "    for img in data[\"images\"]:\n",
    "        if img[\"id\"] == img_id:\n",
    "            img_w = img['width']\n",
    "            img_h = img['height']\n",
    "            break\n",
    "    file_info.update(\n",
    "        {\n",
    "            img_id: {\n",
    "                \"file_name\": filename,\n",
    "                \"width\": img_w,\n",
    "                \"height\": img_h\n",
    "            }\n",
    "        }\n",
    "    )"
   ]
  },
  {
   "cell_type": "code",
   "execution_count": null,
   "metadata": {},
   "outputs": [],
   "source": [
    "for ann in data[\"annotations\"]:\n",
    "    file_details = file_info[ann[\"image_id\"]]\n",
    "    current_category = ann['category_id'] - 1 # As yolo format labels start from 0 \n",
    "    current_bbox = ann['bbox']\n",
    "\n",
    "    img_id_str = str(ann[\"image_id\"])\n",
    "    img_w = file_details[\"width\"]\n",
    "    img_h = file_details[\"height\"]\n",
    "\n",
    "    x = current_bbox[0]\n",
    "    y = current_bbox[1]\n",
    "    w = current_bbox[2]\n",
    "    h = current_bbox[3]\n",
    "    \n",
    "    # Finding midpoints\n",
    "    x_centre = (x + (x+w))/2\n",
    "    y_centre = (y + (y+h))/2\n",
    "    \n",
    "    # Normalization\n",
    "    x_centre = x_centre / img_w\n",
    "    y_centre = y_centre / img_h\n",
    "    w = w / img_w\n",
    "    h = h / img_h\n",
    "    \n",
    "    # Limiting upto fix number of decimal places\n",
    "    x_centre = format(x_centre, '.8f')\n",
    "    y_centre = format(y_centre, '.8f')\n",
    "    w = format(w, '.8f')\n",
    "    h = format(h, '.8f')\n",
    "\n",
    "    with open(f\"{output_path}labels_new/{img_id_str}.txt\", \"a\") as f:\n",
    "        f.write(f\"{current_category} {x_centre} {y_centre} {w} {h}\\n\")\n",
    "        f.close()"
   ]
  }
 ],
 "metadata": {
  "kernelspec": {
   "display_name": "rcnn",
   "language": "python",
   "name": "python3"
  },
  "language_info": {
   "codemirror_mode": {
    "name": "ipython",
    "version": 3
   },
   "file_extension": ".py",
   "mimetype": "text/x-python",
   "name": "python",
   "nbconvert_exporter": "python",
   "pygments_lexer": "ipython3",
   "version": "3.11.5"
  }
 },
 "nbformat": 4,
 "nbformat_minor": 2
}
