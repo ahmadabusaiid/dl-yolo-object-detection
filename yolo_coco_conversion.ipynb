{
 "cells": [
  {
   "cell_type": "code",
   "execution_count": 1,
   "metadata": {},
   "outputs": [],
   "source": [
    "import json\n",
    "import os\n",
    "from PIL import Image\n",
    "import pandas as pd"
   ]
  },
  {
   "cell_type": "code",
   "execution_count": 2,
   "metadata": {},
   "outputs": [],
   "source": [
    "data_dir = 'data'"
   ]
  },
  {
   "cell_type": "code",
   "execution_count": 3,
   "metadata": {},
   "outputs": [],
   "source": [
    "train_df = pd.read_csv(f\"{data_dir}/train.csv\", names=[\"image\", \"label\"])\n",
    "val_df = pd.read_csv(f\"{data_dir}/val.csv\", names=[\"image\", \"label\"])\n",
    "test_df = pd.read_csv(f\"{data_dir}/test.csv\", names=[\"image\", \"label\"])"
   ]
  },
  {
   "cell_type": "code",
   "execution_count": 4,
   "metadata": {},
   "outputs": [],
   "source": [
    "train_imgs = train_df.image.values.tolist()\n",
    "val_imgs = val_df.image.values.tolist()\n",
    "test_imgs = test_df.image.values.tolist()"
   ]
  },
  {
   "cell_type": "code",
   "execution_count": 5,
   "metadata": {},
   "outputs": [],
   "source": [
    "def convert_yolo_coco(img_list, split):\n",
    "    \n",
    "    categories = [\n",
    "        {\"id\": 1, \"name\": \"aeroplane\"},\n",
    "        {\"id\": 2, \"name\": \"bicycle\"},\n",
    "        {\"id\": 3, \"name\": \"bird\"},\n",
    "        {\"id\": 4, \"name\": \"boat\"},\n",
    "        {\"id\": 5, \"name\": \"bottle\"},\n",
    "        {\"id\": 6, \"name\": \"bus\"},\n",
    "        {\"id\": 7, \"name\": \"car\"},\n",
    "        {\"id\": 8, \"name\": \"cat\"},\n",
    "        {\"id\": 9, \"name\": \"chair\"},\n",
    "        {\"id\": 10, \"name\": \"cow\"},\n",
    "        {\"id\": 11, \"name\": \"diningtable\"},\n",
    "        {\"id\": 12, \"name\": \"dog\"},\n",
    "        {\"id\": 13, \"name\": \"horse\"},\n",
    "        {\"id\": 14, \"name\": \"motorbike\"},\n",
    "        {\"id\": 15, \"name\": \"person\"},\n",
    "        {\"id\": 16, \"name\": \"pottedplant\"},\n",
    "        {\"id\": 17, \"name\": \"sheep\"},\n",
    "        {\"id\": 18, \"name\": \"sofa\"},\n",
    "        {\"id\": 19, \"name\": \"train\"},\n",
    "        {\"id\": 20, \"name\": \"tvmonitor\"},\n",
    "    ]\n",
    "\n",
    "    coco_dataset = {\n",
    "        \"info\": {},\n",
    "        \"licenses\": [],\n",
    "        \"categories\": categories,\n",
    "        \"images\": [],\n",
    "        \"annotations\": []\n",
    "    }\n",
    "\n",
    "    for image_file in img_list:\n",
    "        # Load the image and get its dimensions\n",
    "        image_path = f\"{data_dir}/images/{image_file}\"\n",
    "        image = Image.open(image_path)\n",
    "        width, height = image.size\n",
    "        \n",
    "        # Add the image to the COCO dataset\n",
    "        image_dict = {\n",
    "            \"id\": int(image_file.split('.')[0]),\n",
    "            \"width\": width,\n",
    "            \"height\": height,\n",
    "            \"file_name\": image_file\n",
    "        }\n",
    "        coco_dataset[\"images\"].append(image_dict)\n",
    "\n",
    "        # Load the bounding box annotations for the image\n",
    "        with open(f\"{data_dir}/labels/{image_file.split('.')[0]}.txt\") as f:\n",
    "            annotations = f.readlines()\n",
    "        \n",
    "        # Loop through the annotations and add them to the COCO dataset\n",
    "        for ann in annotations:\n",
    "            label, x, y, w, h = map(float, ann.strip().split())\n",
    "            x_min, y_min = int((x - w / 2) * width), int((y - h / 2) * height)\n",
    "            x_max, y_max = int((x + w / 2) * width), int((y + h / 2) * height)\n",
    "            ann_dict = {\n",
    "                \"id\": len(coco_dataset[\"annotations\"]),\n",
    "                \"image_id\": int(image_file.split('.')[0]),\n",
    "                \"category_id\": int(label) + 1, # yolo labels started from 0\n",
    "                \"bbox\": [x_min, y_min, x_max - x_min, y_max - y_min],\n",
    "                \"area\": (x_max - x_min) * (y_max - y_min),\n",
    "                \"iscrowd\": 0\n",
    "            }\n",
    "            coco_dataset[\"annotations\"].append(ann_dict)\n",
    "\n",
    "    with open(f\"{data_dir}/{split}_annotations.json\", 'w') as f:\n",
    "        json.dump(coco_dataset, f)\n",
    "\n",
    "    print(f\"{split} annotations converted from YOLO to COCO format\")\n",
    "\n",
    "        "
   ]
  },
  {
   "cell_type": "code",
   "execution_count": 6,
   "metadata": {},
   "outputs": [
    {
     "name": "stdout",
     "output_type": "stream",
     "text": [
      "train annotations converted from YOLO to COCO format\n"
     ]
    }
   ],
   "source": [
    "convert_yolo_coco(train_imgs, split=\"train\")"
   ]
  },
  {
   "cell_type": "code",
   "execution_count": 7,
   "metadata": {},
   "outputs": [
    {
     "name": "stdout",
     "output_type": "stream",
     "text": [
      "val annotations converted from YOLO to COCO format\n"
     ]
    }
   ],
   "source": [
    "convert_yolo_coco(val_imgs, split=\"val\")"
   ]
  },
  {
   "cell_type": "code",
   "execution_count": 8,
   "metadata": {},
   "outputs": [
    {
     "name": "stdout",
     "output_type": "stream",
     "text": [
      "test annotations converted from YOLO to COCO format\n"
     ]
    }
   ],
   "source": [
    "convert_yolo_coco(test_imgs, split=\"test\")"
   ]
  }
 ],
 "metadata": {
  "kernelspec": {
   "display_name": "base",
   "language": "python",
   "name": "python3"
  },
  "language_info": {
   "codemirror_mode": {
    "name": "ipython",
    "version": 3
   },
   "file_extension": ".py",
   "mimetype": "text/x-python",
   "name": "python",
   "nbconvert_exporter": "python",
   "pygments_lexer": "ipython3",
   "version": "3.11.5"
  }
 },
 "nbformat": 4,
 "nbformat_minor": 2
}
